{
  "nbformat": 4,
  "nbformat_minor": 0,
  "metadata": {
    "colab": {
      "provenance": [],
      "gpuType": "T4",
      "mount_file_id": "1LXtVBHwbl5vNUuJonFvh3boq2itldi_d",
      "authorship_tag": "ABX9TyOlHl8c9uzEwWs5egwtbDq9",
      "include_colab_link": true
    },
    "kernelspec": {
      "name": "python3",
      "display_name": "Python 3"
    },
    "language_info": {
      "name": "python"
    },
    "accelerator": "GPU"
  },
  "cells": [
    {
      "cell_type": "markdown",
      "metadata": {
        "id": "view-in-github",
        "colab_type": "text"
      },
      "source": [
        "<a href=\"https://colab.research.google.com/github/TahyeLehbib/GestionCourrier_Backend/blob/main/FashionModel.ipynb\" target=\"_parent\"><img src=\"https://colab.research.google.com/assets/colab-badge.svg\" alt=\"Open In Colab\"/></a>"
      ]
    },
    {
      "cell_type": "code",
      "execution_count": null,
      "metadata": {
        "colab": {
          "base_uri": "https://localhost:8080/"
        },
        "id": "01h1px_lo1ET",
        "outputId": "cac1673f-f68c-4742-e5df-af68525d4b02"
      },
      "outputs": [
        {
          "output_type": "stream",
          "name": "stdout",
          "text": [
            "Downloading data from https://storage.googleapis.com/tensorflow/tf-keras-datasets/train-labels-idx1-ubyte.gz\n",
            "29515/29515 [==============================] - 0s 0us/step\n",
            "Downloading data from https://storage.googleapis.com/tensorflow/tf-keras-datasets/train-images-idx3-ubyte.gz\n",
            "26421880/26421880 [==============================] - 0s 0us/step\n",
            "Downloading data from https://storage.googleapis.com/tensorflow/tf-keras-datasets/t10k-labels-idx1-ubyte.gz\n",
            "5148/5148 [==============================] - 0s 0us/step\n",
            "Downloading data from https://storage.googleapis.com/tensorflow/tf-keras-datasets/t10k-images-idx3-ubyte.gz\n",
            "4422102/4422102 [==============================] - 0s 0us/step\n"
          ]
        }
      ],
      "source": [
        "import tensorflow as tf\n",
        "from tensorflow.keras.datasets import fashion_mnist\n",
        "from tensorflow.keras.utils import to_categorical\n",
        "\n",
        "# Charger le dataset Fashion MNIST\n",
        "(x_train, y_train), (x_test, y_test) = fashion_mnist.load_data()\n",
        "\n",
        "# Normaliser les valeurs des pixels entre 0 et 1\n",
        "x_train = x_train.astype('float32') / 255.0\n",
        "x_test = x_test.astype('float32') / 255.0\n",
        "\n",
        "# Convertir les labels en one-hot encoding\n",
        "y_train = to_categorical(y_train, 10)\n",
        "y_test = to_categorical(y_test, 10)\n"
      ]
    },
    {
      "cell_type": "code",
      "source": [
        "import tensorflow as tf\n",
        "from tensorflow.keras.datasets import fashion_mnist\n",
        "from tensorflow.keras.utils import to_categorical\n",
        "from tensorflow.keras.preprocessing.image import img_to_array, array_to_img\n",
        "from tensorflow.keras.applications import VGG16\n",
        "from tensorflow.keras.models import Sequential\n",
        "from tensorflow.keras.layers import Flatten, Dense\n",
        "from tensorflow.keras.optimizers import Adam\n",
        "import numpy as np\n",
        "\n",
        "# Charger le dataset Fashion MNIST\n",
        "(x_train, y_train), (x_test, y_test) = fashion_mnist.load_data()\n",
        "\n",
        "# Normaliser les valeurs des pixels entre 0 et 1\n",
        "x_train = x_train.astype('float32') / 255.0\n",
        "x_test = x_test.astype('float32') / 255.0\n",
        "\n",
        "# Convertir les images en RGB (3 channels)\n",
        "# Convertir les images en RGB (3 channels)\n",
        "x_train_rgb = np.array([img_to_array(array_to_img(img.reshape((28, 28, 1))).convert('RGB')) for img in x_train])\n",
        "x_test_rgb = np.array([img_to_array(array_to_img(img.reshape((28, 28, 1))).convert('RGB')) for img in x_test])\n",
        "\n",
        "\n",
        "# Redimensionner les images en 32x32 pixels\n",
        "x_train_resized = tf.image.resize(x_train_rgb, [32, 32])\n",
        "x_test_resized = tf.image.resize(x_test_rgb, [32, 32])\n",
        "\n",
        "# Convertir les labels en one-hot encoding\n",
        "y_train = to_categorical(y_train, 10)\n",
        "y_test = to_categorical(y_test, 10)\n",
        "\n",
        "# Charger le modèle pré-entraîné VGG16 (sans les couches fully connected)\n",
        "base_model = VGG16(weights='imagenet', include_top=False, input_shape=(32, 32, 3))\n",
        "\n",
        "# Geler les premières couches du modèle pré-entraîné\n",
        "for layer in base_model.layers:\n",
        "    layer.trainable = False\n",
        "\n",
        "# Créer un modèle séquentiel et ajouter les couches du modèle pré-entraîné\n",
        "model = Sequential()\n",
        "model.add(base_model)\n",
        "model.add(Flatten())\n",
        "\n",
        "# Ajouter des couches fully connected pour la classification des vêtements\n",
        "model.add(Dense(512, activation='relu'))\n",
        "model.add(Dense(10, activation='softmax'))\n",
        "\n",
        "# Compiler le modèle avec l'optimiseur Adam et la perte categorical_crossentropy\n",
        "model.compile(optimizer=Adam(learning_rate=0.001), loss='categorical_crossentropy', metrics=['accuracy'])\n",
        "\n",
        "# Entraîner le modèle\n",
        "model.fit(x_train_resized, y_train, batch_size=128, epochs=10, validation_data=(x_test_resized, y_test), verbose=1)\n",
        "\n",
        "# Évaluer la performance du modèle\n",
        "loss, accuracy = model.evaluate(x_test_resized, y_test)\n",
        "print(\"Test Accuracy:\", accuracy)\n"
      ],
      "metadata": {
        "colab": {
          "base_uri": "https://localhost:8080/"
        },
        "id": "tMNPzxfupJ-k",
        "outputId": "19930aec-4029-44ed-d049-b0dc58be7708"
      },
      "execution_count": 4,
      "outputs": [
        {
          "output_type": "stream",
          "name": "stdout",
          "text": [
            "Downloading data from https://storage.googleapis.com/tensorflow/keras-applications/vgg16/vgg16_weights_tf_dim_ordering_tf_kernels_notop.h5\n",
            "58889256/58889256 [==============================] - 0s 0us/step\n",
            "Epoch 1/10\n",
            "469/469 [==============================] - 785s 2s/step - loss: 1.1016 - accuracy: 0.7865 - val_loss: 0.6427 - val_accuracy: 0.8125\n",
            "Epoch 2/10\n",
            "469/469 [==============================] - 775s 2s/step - loss: 0.4706 - accuracy: 0.8460 - val_loss: 0.5311 - val_accuracy: 0.8364\n",
            "Epoch 3/10\n",
            "469/469 [==============================] - 777s 2s/step - loss: 0.3652 - accuracy: 0.8709 - val_loss: 0.5084 - val_accuracy: 0.8325\n",
            "Epoch 4/10\n",
            "469/469 [==============================] - 742s 2s/step - loss: 0.3086 - accuracy: 0.8869 - val_loss: 0.4725 - val_accuracy: 0.8421\n",
            "Epoch 5/10\n",
            "469/469 [==============================] - 778s 2s/step - loss: 0.2795 - accuracy: 0.8977 - val_loss: 0.4895 - val_accuracy: 0.8445\n",
            "Epoch 6/10\n",
            "469/469 [==============================] - 779s 2s/step - loss: 0.2592 - accuracy: 0.9039 - val_loss: 0.4911 - val_accuracy: 0.8450\n",
            "Epoch 7/10\n",
            "469/469 [==============================] - 772s 2s/step - loss: 0.2412 - accuracy: 0.9099 - val_loss: 0.4888 - val_accuracy: 0.8513\n",
            "Epoch 8/10\n",
            "469/469 [==============================] - 742s 2s/step - loss: 0.2276 - accuracy: 0.9157 - val_loss: 0.5240 - val_accuracy: 0.8437\n",
            "Epoch 9/10\n",
            "469/469 [==============================] - 780s 2s/step - loss: 0.2198 - accuracy: 0.9198 - val_loss: 0.5108 - val_accuracy: 0.8517\n",
            "Epoch 10/10\n",
            "469/469 [==============================] - 742s 2s/step - loss: 0.2039 - accuracy: 0.9241 - val_loss: 0.5460 - val_accuracy: 0.8535\n",
            "313/313 [==============================] - 108s 343ms/step - loss: 0.5460 - accuracy: 0.8535\n",
            "Test Accuracy: 0.8535000085830688\n"
          ]
        }
      ]
    },
    {
      "cell_type": "code",
      "source": [
        "import matplotlib.pyplot as plt\n",
        "\n",
        "# Définir les classes pour les étiquettes Fashion MNIST\n",
        "class_names = ['T-shirt/top', 'Trouser', 'Pullover', 'Dress', 'Coat',\n",
        "               'Sandal', 'Shirt', 'Sneaker', 'Bag', 'Ankle boot']\n",
        "\n",
        "# Afficher trois images et leurs étiquettes correspondantes\n",
        "plt.figure(figsize=(10,10))\n",
        "for i in range(3):\n",
        "    plt.subplot(1, 3, i+1)\n",
        "    plt.xticks([])\n",
        "    plt.yticks([])\n",
        "    plt.grid(False)\n",
        "    plt.imshow(x_train[i], cmap=plt.cm.binary)\n",
        "    plt.xlabel(class_names[np.argmax(y_train[i])])\n",
        "\n",
        "plt.show()\n"
      ],
      "metadata": {
        "colab": {
          "base_uri": "https://localhost:8080/",
          "height": 284
        },
        "id": "FCnKoLfhI305",
        "outputId": "4992f3aa-8ffb-497a-a498-7f10f9dcc572"
      },
      "execution_count": 6,
      "outputs": [
        {
          "output_type": "display_data",
          "data": {
            "text/plain": [
              "<Figure size 1000x1000 with 3 Axes>"
            ],
            "image/png": "[encoded data removed]"
          },
          "metadata": {}
        }
      ]
    },
    {
      "cell_type": "code",
      "source": [
        "from PIL import Image\n",
        "\n",
        "# Charger l'image de test\n",
        "test_image = Image.open(\"/content/drive/MyDrive/cours_deep_learning/images.jpeg\")\n",
        "\n",
        "# Redimensionner l'image à la taille attendue par le modèle (32x32 pixels)\n",
        "test_image = test_image.resize((32, 32))\n",
        "\n",
        "# Convertir l'image en tableau numpy\n",
        "test_image = np.array(test_image)\n",
        "\n",
        "# Ajouter une dimension supplémentaire pour représenter le lot (batch)\n",
        "test_image = np.expand_dims(test_image, axis=0)\n",
        "\n",
        "# Prédire la classe de l'image\n",
        "prediction = model.predict(test_image)\n",
        "\n",
        "# Obtenir l'index de la classe prédite\n",
        "predicted_class_index = np.argmax(prediction)\n",
        "\n",
        "# Afficher la classe prédite\n",
        "print(\"Predicted class:\", class_names[predicted_class_index])\n",
        "\n"
      ],
      "metadata": {
        "colab": {
          "base_uri": "https://localhost:8080/"
        },
        "id": "pDWM-7SLJk0M",
        "outputId": "7f5b7337-703e-49b5-dd96-4d02db8ed4ae"
      },
      "execution_count": 9,
      "outputs": [
        {
          "output_type": "stream",
          "name": "stdout",
          "text": [
            "1/1 [==============================] - 0s 195ms/step\n",
            "Predicted class: T-shirt/top\n"
          ]
        }
      ]
    }
  ]
}